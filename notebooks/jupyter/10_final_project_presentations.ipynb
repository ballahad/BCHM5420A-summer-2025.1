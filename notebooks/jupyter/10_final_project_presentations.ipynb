{
 "cells": [
  {
   "cell_type": "markdown",
   "id": "b6fb7550",
   "metadata": {},
   "source": [
    "# Final Project Presentations \n",
    "\n",
    "2025-06-09\n",
    "\n",
    "\n",
    "Today's class is dedicated to the final project presentations. Students will have 20 minutes to describe their research project and results. \n",
    "\n",
    "The presentation should cover the main areas of their project research proposal, including:\n",
    "-  Background information\n",
    "-  Research question & hypothesis\n",
    "- Analysis and Methods\n",
    "-  Results and Visualizations\n",
    "-  Discussion + Limitations & Caveats\n",
    "\n",
    "In addition, the presentation should include a discussion on some of the issues encountered during the\n",
    "project and how they were solved. \n"
   ]
  }
 ],
 "metadata": {
  "kernelspec": {
   "display_name": ".venv",
   "language": "python",
   "name": "python3"
  },
  "language_info": {
   "name": "python",
   "version": "3.13.3"
  }
 },
 "nbformat": 4,
 "nbformat_minor": 5
}
