{
 "cells": [
  {
   "cell_type": "markdown",
   "id": "b6fb7550",
   "metadata": {},
   "source": [
    "# Pair Code Review Assignment\n",
    "\n",
    "2025-05-28\n",
    "\n",
    "\n",
    "Today's class is dedicated to completing our pair code review assignment. Students will work in breakout rooms in groups of 4 to complete their reviews of each other's READMEs and begin working on resolving issues in the fixme-nf repo. Instructors are available for questions in a separate breakout room during this class that students can join to ask questions.\n",
    "\n",
    "## Table of Contents\n",
    "\n",
    "[Introduction](#introduction)<br>\n",
    "[Part 1 README Documentation Pair Review](#part-1-readme-documentation-pair-review)<br>\n",
    "[Part 2 fixme-nf](#part-2-fixme-nf)<br>\n",
    "[Due Date](#due-date)<br>\n",
    "\n",
    "\n",
    "## Introduction\n",
    "\n",
    "Assignment Instructions are described in the class 6 Jupyter notebook in the class Github Repository [here](https://github.com/uleth-advanced-bioinformatics/BCHM5420A-summer-2025/blob/main/notebooks/markdown/06_documentation_troubleshooting_paircode_review.md)\n",
    "\n",
    "\n",
    "In summary, the assignment has two parts. \n",
    "\n",
    "## Part 1 README Documentation Pair Review\n",
    "\n",
    "- Student are to check out a branch and add the Introduction and Flowchart documentation described in class to the README of their personal class project Github repository  \n",
    "\n",
    "- Create a pull request to merge the changes with their main branch on Github \n",
    "\n",
    "- Request a review from 2 classmates  \n",
    "\n",
    "- Reviewer is required provide one area explained well, and one area that could be improved for clarity  \n",
    "\n",
    "## Part 2 fixme-nf\n",
    "\n",
    "The fixme-nf pipeline contains errors, students are to gain practice \n",
    "\n",
    "- opening an issue \n",
    "\n",
    "- forking a repository \n",
    "\n",
    "- cloning that repository \n",
    "\n",
    "- fixing an issue \n",
    "\n",
    "- creating a PR \n",
    "\n",
    "Students are encouraged to collaborate and work together, but each person must individually submit an issue, fix that issue, and make a pull request to the fixme-nf repo that resolves/references the issue they created. \n",
    "\n",
    "\n",
    "## Due Date\n",
    "\n",
    "The final assignment is due by 6pm MT on May 30th. "
   ]
  }
 ],
 "metadata": {
  "kernelspec": {
   "display_name": ".venv",
   "language": "python",
   "name": "python3"
  },
  "language_info": {
   "name": "python",
   "version": "3.13.3"
  }
 },
 "nbformat": 4,
 "nbformat_minor": 5
}
