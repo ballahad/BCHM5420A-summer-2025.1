{
 "cells": [
  {
   "cell_type": "markdown",
   "id": "b6fb7550",
   "metadata": {},
   "source": [
    "# Reproducibility Testing Workshop \n",
    "\n",
    "2025-06-11\n",
    "\n",
    "\n",
    "Today's class is dedicated to the the reproducibility testing workshop. Students will have 20 minutes to walk the class through their workshop and the audience will be following along. The reproducibility testing workshop involves students creating a Jupyter Notebook (or Rmarkdown ) style document that contains the instructions to reproduce one part of your project, that  classmates will follow along with. \n",
    "\n",
    "The workshop must:\n",
    "- include instructions to create and activate an environment that contains the tools required. This can be done with Conda or Docker. It is not required to have both but can include both for reproducibility!\n",
    "- contain one command from within thier project that can be successfully run with this environment activated. This can be any single step, for example, a process in their Nextflow pipeline, a downstream post-processing script, or code for visualization. **The significance of this command is not as important as the ability to reproduce this command**.\n",
    "- include the steps to obtain any input data or additional resources that their classmates require to run this command.\n",
    "- have an expected output for someone to reproduce\n",
    "- have SOP-style instructions to get the environment up and running, collect any input data, run the command, and verify the expected outputs.\n",
    "\n"
   ]
  }
 ],
 "metadata": {
  "kernelspec": {
   "display_name": ".venv",
   "language": "python",
   "name": "python3"
  },
  "language_info": {
   "name": "python",
   "version": "3.13.3"
  }
 },
 "nbformat": 4,
 "nbformat_minor": 5
}
